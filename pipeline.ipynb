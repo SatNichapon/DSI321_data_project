{
 "cells": [
  {
   "cell_type": "markdown",
   "id": "eb8f3f81",
   "metadata": {},
   "source": [
    "#Pipeline script for data collection, processing, and lakeFS storage. (ongoing)"
   ]
  },
  {
   "cell_type": "code",
   "execution_count": 1,
   "id": "07471bd9",
   "metadata": {},
   "outputs": [],
   "source": [
    "import requests\n",
    "import os\n",
    "import pandas as pd"
   ]
  },
  {
   "cell_type": "code",
   "execution_count": 2,
   "id": "11cfa79e",
   "metadata": {},
   "outputs": [],
   "source": [
    "# Data collection\n",
    "# config\n",
    "url = 'http://air4thai.pcd.go.th/services/getNewAQI_JSON.php'"
   ]
  },
  {
   "cell_type": "code",
   "execution_count": 3,
   "id": "b080bb42",
   "metadata": {},
   "outputs": [],
   "source": [
    "def air4thai_request_data(url):\n",
    "    \"\"\"\n",
    "    Make a request to the API endpoint via url.\n",
    "\n",
    "    Parameters:\n",
    "    url: Your API endpoint where the data is accessible.\n",
    "\n",
    "    Returns:\n",
    "    df: \n",
    "    \"\"\"\n",
    "\n",
    "    request = requests.get(url=url)\n",
    "\n",
    "    # transform data into dataframe\n",
    "    request_json = request.json()\n",
    "    data = request_json['stations']\n",
    "    df = pd.DataFrame(data)\n",
    "\n",
    "    return df"
   ]
  },
  {
   "cell_type": "code",
   "execution_count": 4,
   "id": "3df9dd3b",
   "metadata": {},
   "outputs": [],
   "source": [
    "df = air4thai_request_data(url=url)"
   ]
  },
  {
   "cell_type": "code",
   "execution_count": 5,
   "id": "e3dd4f1c",
   "metadata": {},
   "outputs": [],
   "source": [
    "# Data Processing\n",
    "expanded_aqi = pd.json_normalize(df['AQILast'])\n",
    "df = pd.concat([df, expanded_aqi], axis=1)\n",
    "\n",
    "# Convert data types\n",
    "numeric_cols = ['PM25.color_id', 'PM25.aqi',\n",
    "                 'PM10.color_id', 'PM10.aqi',\n",
    "                 'O3.color_id', 'O3.aqi',\n",
    "                 'CO.color_id', 'CO.aqi',\n",
    "                 'NO2.color_id', 'NO2.aqi',\n",
    "                 'SO2.color_id', 'SO2.aqi',\n",
    "                 'AQI.color_id', 'AQI.aqi']\n",
    "\n",
    "df[numeric_cols] = df[numeric_cols].astype(int)\n",
    "df['time'] = df['time'].mode()[0]\n",
    "df['date'] = df['date'].mode()[0]\n",
    "df['datetime'] = pd.to_datetime(df['date'] + ' ' + df['time'])\n",
    "\n",
    "# Remove unnecessary columns\n",
    "df = df.drop(axis=1, columns=['date', 'time', 'forecast', 'AQILast',\n",
    "                              'PM25.value', 'PM10.value', 'O3.value', 'CO.value', 'NO2.value', 'SO2.value'])"
   ]
  },
  {
   "cell_type": "code",
   "execution_count": 6,
   "id": "292422b1",
   "metadata": {},
   "outputs": [],
   "source": [
    "# get date and time at the moment\n",
    "current_date = df['datetime'].dt.date[0]\n",
    "current_time = df['datetime'].dt.time[0].strftime(\"%H-%M-%S\")"
   ]
  },
  {
   "cell_type": "code",
   "execution_count": 7,
   "id": "ec550ac7",
   "metadata": {},
   "outputs": [],
   "source": [
    "# set path to the staging area (directory)\n",
    "output_folder = 'staging_input_data'\n",
    "output_file = f'{current_date}_{current_time}_aqi-data.csv'\n",
    "\n",
    "output_path = os.path.join(output_folder, output_file)"
   ]
  },
  {
   "cell_type": "code",
   "execution_count": 12,
   "id": "0bb0e188",
   "metadata": {},
   "outputs": [
    {
     "name": "stdout",
     "output_type": "stream",
     "text": [
      "AQI data for \"2025-05-01\" at \"23-00-00\" has been successfully saved in the \"staging_input_data\" folder.\n"
     ]
    }
   ],
   "source": [
    "# save file to staging area\n",
    "df.to_csv(output_path, encoding='utf-8', index=False)\n",
    "print(f'AQI data for \"{current_date}\" at \"{current_time}\" has been successfully saved in the \"{output_folder}\" folder.')"
   ]
  }
 ],
 "metadata": {
  "kernelspec": {
   "display_name": "dsi321",
   "language": "python",
   "name": "python3"
  },
  "language_info": {
   "codemirror_mode": {
    "name": "ipython",
    "version": 3
   },
   "file_extension": ".py",
   "mimetype": "text/x-python",
   "name": "python",
   "nbconvert_exporter": "python",
   "pygments_lexer": "ipython3",
   "version": "3.10.17"
  }
 },
 "nbformat": 4,
 "nbformat_minor": 5
}
