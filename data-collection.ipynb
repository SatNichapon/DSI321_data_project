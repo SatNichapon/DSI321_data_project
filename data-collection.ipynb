{
 "cells": [
  {
   "cell_type": "code",
   "execution_count": 39,
   "id": "07471bd9",
   "metadata": {},
   "outputs": [],
   "source": [
    "import pandas as pd\n",
    "import requests\n",
    "import os"
   ]
  },
  {
   "cell_type": "code",
   "execution_count": 40,
   "id": "11cfa79e",
   "metadata": {},
   "outputs": [],
   "source": [
    "# request to server\n",
    "url = 'http://air4thai.pcd.go.th/services/getNewAQI_JSON.php'\n",
    "request = requests.get(url=url)"
   ]
  },
  {
   "cell_type": "code",
   "execution_count": 41,
   "id": "4c323eec",
   "metadata": {},
   "outputs": [],
   "source": [
    "# transform data into dataframe\n",
    "request_json = request.json()\n",
    "data = request_json['stations']\n",
    "df = pd.DataFrame(data)"
   ]
  },
  {
   "cell_type": "code",
   "execution_count": 42,
   "id": "b080bb42",
   "metadata": {},
   "outputs": [],
   "source": [
    "# get date and time at the moment\n",
    "current_date = df['AQILast'][0]['date']\n",
    "current_time = df['AQILast'][0]['time']\n",
    "\n",
    "# re-formating the timestamp\n",
    "current_time = current_time.replace(':', '-') + '-00'"
   ]
  },
  {
   "cell_type": "code",
   "execution_count": 43,
   "id": "3df9dd3b",
   "metadata": {},
   "outputs": [],
   "source": [
    "# set path to the staging area (directory)\n",
    "output_folder = 'staging_input_data'\n",
    "output_file = rf'{current_date}_{current_time}_aqi-data.csv'\n",
    "\n",
    "output_path = os.path.join(output_folder, output_file)"
   ]
  },
  {
   "cell_type": "code",
   "execution_count": 44,
   "id": "0bb0e188",
   "metadata": {},
   "outputs": [],
   "source": [
    "# save file to staging area\n",
    "df.to_csv(output_path, encoding='utf-8')"
   ]
  }
 ],
 "metadata": {
  "kernelspec": {
   "display_name": "dsi321",
   "language": "python",
   "name": "python3"
  },
  "language_info": {
   "codemirror_mode": {
    "name": "ipython",
    "version": 3
   },
   "file_extension": ".py",
   "mimetype": "text/x-python",
   "name": "python",
   "nbconvert_exporter": "python",
   "pygments_lexer": "ipython3",
   "version": "3.10.17"
  }
 },
 "nbformat": 4,
 "nbformat_minor": 5
}
